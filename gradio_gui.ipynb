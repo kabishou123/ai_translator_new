{
 "cells": [
  {
   "cell_type": "code",
   "execution_count": 6,
   "id": "e5742362-ad32-4667-9da9-9e903cae4962",
   "metadata": {},
   "outputs": [],
   "source": [
    "import requests\n",
    "import gradio as gr\n"
   ]
  },
  {
   "cell_type": "code",
   "execution_count": null,
   "id": "3fbd70ab-f159-49ef-83b9-13c364f5471f",
   "metadata": {},
   "outputs": [],
   "source": [
    "# The following is not working as the uploaded file is empty using Gradio in this way\n",
    "import tempfile\n",
    "def submitJob_fake(host, port, file_upload, file_format, to_lan):\n",
    "    url = f\"http://{host}:{port}/jobs\"\n",
    "    with open(\"hello.pdf\", 'wb') as f:\n",
    "        f.write(file_upload.read())\n",
    "    '''\n",
    "    with tempfile.NamedTemporaryFile(delete=False, suffix=\".pdf\") as temp_file:\n",
    "        temp_file.write(file_upload.read())\n",
    "        temp_path = temp_file.name\n",
    "    files = {'file': open(temp_path, 'rb')}\n",
    "    '''\n",
    "    files = {'file': open(\"hello.pdf\",'rb')}\n",
    "    data = {'file_format':file_format, 'to_lan':to_lan}\n",
    "    response = requests.post(url, files= files, data=data)\n",
    "    return response.text\n",
    "\n",
    "iface = gr.Interface(fn=submitJob_fake, inputs=[\"text\", \"text\", \"file\", \"text\",\"text\"], outputs=\"text\")\n",
    "iface.launch()\n",
    "    "
   ]
  },
  {
   "cell_type": "code",
   "execution_count": null,
   "id": "29b4916f-1524-45a3-8259-245032824882",
   "metadata": {},
   "outputs": [],
   "source": []
  },
  {
   "cell_type": "code",
   "execution_count": 7,
   "id": "a1bf275b-bfd0-4445-9e9c-cb7c00833108",
   "metadata": {},
   "outputs": [],
   "source": [
    "def submitJob(host, port, file_bytes, file_format, to_lan, style):\n",
    "    url = f\"http://{host}:{port}/jobs\"\n",
    "    with open(\"original.pdf\", 'wb') as f:\n",
    "        f.write(file_bytes)\n",
    "    files = {'file': open(\"original.pdf\",'rb')}\n",
    "    data = {'file_format':file_format, 'to_lan':to_lan, 'style':style}\n",
    "    response = requests.post(url, files= files, data=data)\n",
    "    return response.text\n"
   ]
  },
  {
   "cell_type": "code",
   "execution_count": 8,
   "id": "72fb4e72-299d-4b78-aae1-dca7d73aaaca",
   "metadata": {},
   "outputs": [],
   "source": [
    "def queryJob(host, port, job_id):\n",
    "    url = f\"http://{host}:{port}/jobs/{job_id}\"\n",
    "    response = requests.get(url)\n",
    "    return response.text"
   ]
  },
  {
   "cell_type": "code",
   "execution_count": 9,
   "id": "9d7090cb-2b76-498c-a7e8-8adb40d2628d",
   "metadata": {},
   "outputs": [],
   "source": [
    "import json\n",
    "def download(host, port, job_id):\n",
    "    url = f\"http://{host}:{port}/jobs/{job_id}\"\n",
    "    response = requests.get(url)\n",
    "    if response.ok:\n",
    "        status_dict = json.loads(response.text)\n",
    "        if status_dict['status'] == \"Finished\":\n",
    "            url = f\"http://{host}:{port}/translations/{job_id}\"\n",
    "            return f'<a href=\"{url}\" target=\"_blank\">Click here to view the Translated file</a>'\n",
    "        else:\n",
    "            return f'job is not finished'\n",
    "    else:\n",
    "        return f'job is not found'\n",
    "    "
   ]
  },
  {
   "cell_type": "code",
   "execution_count": 10,
   "id": "a1e49b08-4de1-4ca3-a894-9d128e921dab",
   "metadata": {
    "scrolled": true
   },
   "outputs": [
    {
     "name": "stdout",
     "output_type": "stream",
     "text": [
      "Running on local URL:  http://127.0.0.1:7861\n",
      "\n",
      "To create a public link, set `share=True` in `launch()`.\n"
     ]
    },
    {
     "data": {
      "text/html": [
       "<div><iframe src=\"http://127.0.0.1:7861/\" width=\"100%\" height=\"500\" allow=\"autoplay; camera; microphone; clipboard-read; clipboard-write;\" frameborder=\"0\" allowfullscreen></iframe></div>"
      ],
      "text/plain": [
       "<IPython.core.display.HTML object>"
      ]
     },
     "metadata": {},
     "output_type": "display_data"
    },
    {
     "data": {
      "text/plain": []
     },
     "execution_count": 10,
     "metadata": {},
     "output_type": "execute_result"
    }
   ],
   "source": [
    "with gr.Blocks() as submit_job:\n",
    "    with gr.Row():\n",
    "        host = gr.Textbox(label = \"host\", value=\"localhost\")\n",
    "        port = gr.Textbox(label = \"port\", value=\"5003\")\n",
    "    with gr.Row():\n",
    "        file_format = gr.Dropdown(label = \"file format\", choices = [\"pdf\",\"md\"], value=\"pdf\")\n",
    "        to_lan = gr.Dropdown(label = \"target language\", value=\"Chinese\")\n",
    "        style = gr.Textbox(label = \"style\", value = \"plain\")\n",
    "    with gr.Row():\n",
    "        file_upload = gr.File(label = \"file to translate\", file_types=[\"pdf\"], type=\"binary\")\n",
    "    submit_out = gr.Textbox(label = \"submit result\")\n",
    "    submit_btn = gr.Button(\"Submit\")\n",
    "    submit_btn.click(fn=submitJob, inputs=[host, port, file_upload, file_format, to_lan, style], outputs=submit_out)\n",
    "with gr.Blocks() as query_job:\n",
    "    with gr.Row():\n",
    "        job_id = gr.Textbox(label = \"job id\", placeholder=\"The job id returned when you submit the job\")\n",
    "        query_output = gr.Textbox(label = \"job status\")\n",
    "    query_btn = gr.Button(\"Query status of a particular job\")\n",
    "    download_btn = gr.Button(\"Download the translated file for a particular job (make sure the status is Finished)\")\n",
    "    query_btn.click(fn=queryJob, inputs=[host, port,job_id], outputs=query_output)\n",
    "    download_btn.click(fn=download, inputs=[host, port,job_id], outputs=gr.outputs.HTML())\n",
    "    \n",
    "demo = gr.TabbedInterface([submit_job, query_job], [\"submit job\", \"query_job\"])\n",
    "demo.launch()"
   ]
  },
  {
   "cell_type": "code",
   "execution_count": null,
   "id": "4eae9643-dd0d-4ed5-af47-d2d842d66d31",
   "metadata": {},
   "outputs": [],
   "source": []
  },
  {
   "cell_type": "code",
   "execution_count": null,
   "id": "eeb71568-c3f7-4826-92e4-c040701aaafd",
   "metadata": {},
   "outputs": [],
   "source": []
  }
 ],
 "metadata": {
  "kernelspec": {
   "display_name": "Python 3 (ipykernel)",
   "language": "python",
   "name": "python3"
  },
  "language_info": {
   "codemirror_mode": {
    "name": "ipython",
    "version": 3
   },
   "file_extension": ".py",
   "mimetype": "text/x-python",
   "name": "python",
   "nbconvert_exporter": "python",
   "pygments_lexer": "ipython3",
   "version": "3.10.7"
  }
 },
 "nbformat": 4,
 "nbformat_minor": 5
}
